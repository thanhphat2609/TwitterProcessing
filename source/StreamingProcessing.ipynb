{
 "cells": [
  {
   "cell_type": "markdown",
   "metadata": {
    "application/vnd.databricks.v1+cell": {
     "cellMetadata": {},
     "inputWidgets": {},
     "nuid": "d35a4633-ad70-4093-947d-b65440c1404d",
     "showTitle": false,
     "title": ""
    }
   },
   "source": [
    "## 1. Read Streaming Data, Define Schema for Streaming Data and Load into Silver Table ##"
   ]
  },
  {
   "cell_type": "code",
   "execution_count": null,
   "metadata": {
    "application/vnd.databricks.v1+cell": {
     "cellMetadata": {
      "byteLimit": 2048000,
      "rowLimit": 10000
     },
     "inputWidgets": {},
     "nuid": "517422cc-7837-4e60-b910-e84ec4d23274",
     "showTitle": false,
     "title": ""
    }
   },
   "outputs": [],
   "source": [
    "# Databricks notebook source\n",
    "from pyspark.sql.types import *\n",
    "import pyspark.sql.functions as F\n",
    "from datetime import datetime as dt\n",
    "import json"
   ]
  },
  {
   "cell_type": "code",
   "execution_count": null,
   "metadata": {
    "application/vnd.databricks.v1+cell": {
     "cellMetadata": {
      "byteLimit": 2048000,
      "rowLimit": 10000
     },
     "inputWidgets": {},
     "nuid": "10d5357f-9cfa-442a-8ea8-0417c662cb5c",
     "showTitle": false,
     "title": ""
    }
   },
   "outputs": [],
   "source": [
    "connectionString = \"Endpoint=sb://cloud-namespace.servicebus.windows.net/;SharedAccessKeyName=policy;SharedAccessKey=jFkGlYICLs65V/xKnC0mBg4D4UL+S/uVI+AEhB+83vw=;EntityPath=cloud-hub\"\n",
    "ehConf = {}\n",
    "startOffset = \"-1\"\n",
    "endTime = dt.now().strftime(\"%Y-%m-%dT%H:%M:%S.%fZ\")\n",
    "startingEventPosition = {\n",
    "    \"offset\": startOffset,\n",
    "    \"seqNo\": -1,  # not in use\n",
    "    \"enqueuedTime\": None,  # not in use\n",
    "    \"isInclusive\": True,\n",
    "}\n",
    "endingEventPosition = {\n",
    "    \"offset\": None,  # not in use\n",
    "    \"seqNo\": -1,  # not in use\n",
    "    \"enqueuedTime\": endTime,\n",
    "    \"isInclusive\": True,\n",
    "}\n",
    "ehConf[\"eventhubs.startingPosition\"] = json.dumps(startingEventPosition)\n",
    "ehConf[\"eventhubs.endingPosition\"] = json.dumps(endingEventPosition)\n",
    "\n",
    "ehConf[\n",
    "    \"eventhubs.connectionString\"\n",
    "] = sc._jvm.org.apache.spark.eventhubs.EventHubsUtils.encrypt(connectionString)\n",
    "ehConf[\"eventhubs.consumerGroup\"] = \"$Default\"\n",
    "\n",
    "json_schema = StructType(\n",
    "    [\n",
    "        StructField(\"Tweet\", StringType(), True),\n",
    "        StructField(\"polarity\", FloatType(), True),\n",
    "        StructField(\"subjectivity\", FloatType(), True),\n",
    "        StructField(\"Sentiment\", StringType(), True)\n",
    "    ]\n",
    ")\n",
    "\n",
    "\n",
    "df = spark.readStream.format(\"eventhubs\").options(**ehConf).load()\n",
    "\n",
    "df = df.withColumn(\"body\", F.from_json(df.body.cast(\"string\"), json_schema))\n",
    "\n",
    "df = df.select(\n",
    "    F.col(\"body.Tweet\"), F.col(\"body.polarity\"), F.col(\"body.subjectivity\"), F.col(\"body.Sentiment\")\n",
    ")\n",
    "\n",
    "df = df.writeStream.format(\"delta\") \\\n",
    "\t\t    \t.outputMode(\"append\") \\\n",
    "            .option(\"path\",\"dbfs:/user/hive/warehouse/twitter_database.db/twitter_bronze\") \\\n",
    "            .option(\"checkpointLocation\", \"/tmp/delta/_checkpoints/\")\\\n",
    "            .option(\"database\", \"twitter_database\") \\\n",
    "   \t\t\t.option(\"table\", \"twitter_bronze\") \\\n",
    "\t\t\t.start()\n",
    "\n",
    "df.awaitTermination()"
   ]
  },
  {
   "cell_type": "code",
   "execution_count": null,
   "metadata": {},
   "outputs": [],
   "source": [
    "%sql\n",
    "USE twitter_database"
   ]
  },
  {
   "cell_type": "markdown",
   "metadata": {},
   "source": [
    "## 2. Drop null data ##"
   ]
  },
  {
   "cell_type": "code",
   "execution_count": null,
   "metadata": {},
   "outputs": [],
   "source": [
    "# Drop null data\n",
    "df_twitter_silver = spark.sql('''SELECT *\n",
    "                                 FROM twitter_bronze\n",
    "                                 WHERE Tweet IS NOT NULL AND  polarity IS NOT NULL\n",
    "                                                AND subjectivity IS NOT NULL\n",
    "                                                AND Sentiment IS NOT NULL''')"
   ]
  },
  {
   "cell_type": "markdown",
   "metadata": {},
   "source": [
    "## 3. Create silver table for not null data ##"
   ]
  },
  {
   "cell_type": "code",
   "execution_count": null,
   "metadata": {},
   "outputs": [],
   "source": [
    "%sql\n",
    "CREATE TABLE IF NOT EXISTS twitter_silver(\n",
    "  Tweet STRING,\n",
    "  polarity FLOAT,\n",
    "  subjectivity FLOAT,\n",
    "  Sentiment STRING\n",
    ")"
   ]
  },
  {
   "cell_type": "code",
   "execution_count": null,
   "metadata": {},
   "outputs": [],
   "source": [
    "df_twitter_silver.write.insertInto(\"twitter_silver\")"
   ]
  },
  {
   "cell_type": "markdown",
   "metadata": {
    "application/vnd.databricks.v1+cell": {
     "cellMetadata": {},
     "inputWidgets": {},
     "nuid": "a9b8e8fb-a763-4f98-baf8-c99101438116",
     "showTitle": false,
     "title": ""
    }
   },
   "source": [
    "## 4. Create Gold Table in Database 'twitter_database' ##"
   ]
  },
  {
   "cell_type": "code",
   "execution_count": null,
   "metadata": {
    "application/vnd.databricks.v1+cell": {
     "cellMetadata": {
      "byteLimit": 2048000,
      "implicitDf": true,
      "rowLimit": 10000
     },
     "inputWidgets": {},
     "nuid": "5ac34d92-205d-45f5-af8c-57fbd8e9aeed",
     "showTitle": false,
     "title": ""
    }
   },
   "outputs": [],
   "source": [
    "%sql\n",
    "CREATE TABLE IF NOT EXISTS twitter_gold(\n",
    "  Sentiment STRING,\n",
    "  NumberOfSentiment INT\n",
    ")"
   ]
  },
  {
   "cell_type": "markdown",
   "metadata": {
    "application/vnd.databricks.v1+cell": {
     "cellMetadata": {},
     "inputWidgets": {},
     "nuid": "6c8d479c-e6a9-48dd-b442-724d58ae25b5",
     "showTitle": false,
     "title": ""
    }
   },
   "source": [
    "## 5. This Gold Table wil store sentiment and numberofsentiment ##"
   ]
  },
  {
   "cell_type": "code",
   "execution_count": null,
   "metadata": {},
   "outputs": [],
   "source": [
    "# Select necessary columns\n",
    "df_twitter_gold = spark.sql('''SELECT Sentiment, Count(Sentiment) AS NumberOfSentiment\n",
    "                                FROM twitter_silver\n",
    "                                GROUP BY Sentiment''')"
   ]
  },
  {
   "cell_type": "code",
   "execution_count": null,
   "metadata": {
    "application/vnd.databricks.v1+cell": {
     "cellMetadata": {
      "byteLimit": 2048000,
      "rowLimit": 10000
     },
     "inputWidgets": {},
     "nuid": "61c674b9-f89e-44c3-a3d8-402b55d8936a",
     "showTitle": false,
     "title": ""
    }
   },
   "outputs": [],
   "source": [
    "# Write into table taxi_gold by df_taxi_gold\n",
    "df_twitter_gold.write.insertInto(\"twitter_gold\")"
   ]
  }
 ],
 "metadata": {
  "application/vnd.databricks.v1+notebook": {
   "dashboards": [],
   "language": "python",
   "notebookMetadata": {
    "mostRecentlyExecutedCommandWithImplicitDF": {
     "commandId": 1215130472625544,
     "dataframes": [
      "_sqldf"
     ]
    },
    "pythonIndentUnit": 4
   },
   "notebookName": "ETL_EventHubs_Databricks_Storage",
   "widgets": {}
  },
  "language_info": {
   "name": "python"
  }
 },
 "nbformat": 4,
 "nbformat_minor": 0
}
