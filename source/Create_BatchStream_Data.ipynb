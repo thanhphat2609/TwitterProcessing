{
 "cells": [
  {
   "cell_type": "code",
   "execution_count": 1,
   "metadata": {},
   "outputs": [],
   "source": [
    "# import libraries\n",
    "import pandas as pd\n",
    "import numpy as np"
   ]
  },
  {
   "cell_type": "code",
   "execution_count": 2,
   "metadata": {},
   "outputs": [
    {
     "data": {
      "text/html": [
       "<div>\n",
       "<style scoped>\n",
       "    .dataframe tbody tr th:only-of-type {\n",
       "        vertical-align: middle;\n",
       "    }\n",
       "\n",
       "    .dataframe tbody tr th {\n",
       "        vertical-align: top;\n",
       "    }\n",
       "\n",
       "    .dataframe thead th {\n",
       "        text-align: right;\n",
       "    }\n",
       "</style>\n",
       "<table border=\"1\" class=\"dataframe\">\n",
       "  <thead>\n",
       "    <tr style=\"text-align: right;\">\n",
       "      <th></th>\n",
       "      <th>Tweet</th>\n",
       "      <th>polarity</th>\n",
       "      <th>subjectivity</th>\n",
       "      <th>Sentiment</th>\n",
       "    </tr>\n",
       "  </thead>\n",
       "  <tbody>\n",
       "    <tr>\n",
       "      <th>0</th>\n",
       "      <td>RT @ChristopherJM: Zelensky also confirms CIA ...</td>\n",
       "      <td>0.000000</td>\n",
       "      <td>0.000000</td>\n",
       "      <td>Negative</td>\n",
       "    </tr>\n",
       "    <tr>\n",
       "      <th>1</th>\n",
       "      <td>RT @oryxspioenkop: Russia acquired these vehic...</td>\n",
       "      <td>-0.100000</td>\n",
       "      <td>0.300000</td>\n",
       "      <td>Positive</td>\n",
       "    </tr>\n",
       "    <tr>\n",
       "      <th>2</th>\n",
       "      <td>RT @RepMTG: I’m calling for an audit of every ...</td>\n",
       "      <td>-0.035714</td>\n",
       "      <td>0.607143</td>\n",
       "      <td>Positive</td>\n",
       "    </tr>\n",
       "    <tr>\n",
       "      <th>3</th>\n",
       "      <td>RT @KyivIndependent: \"Russian goal seems to be...</td>\n",
       "      <td>0.034091</td>\n",
       "      <td>0.113636</td>\n",
       "      <td>Negative</td>\n",
       "    </tr>\n",
       "    <tr>\n",
       "      <th>4</th>\n",
       "      <td>RT @william98161886: I see Rishi just given an...</td>\n",
       "      <td>-0.325521</td>\n",
       "      <td>0.166667</td>\n",
       "      <td>Positive</td>\n",
       "    </tr>\n",
       "  </tbody>\n",
       "</table>\n",
       "</div>"
      ],
      "text/plain": [
       "                                               Tweet  polarity  subjectivity  \\\n",
       "0  RT @ChristopherJM: Zelensky also confirms CIA ...  0.000000      0.000000   \n",
       "1  RT @oryxspioenkop: Russia acquired these vehic... -0.100000      0.300000   \n",
       "2  RT @RepMTG: I’m calling for an audit of every ... -0.035714      0.607143   \n",
       "3  RT @KyivIndependent: \"Russian goal seems to be...  0.034091      0.113636   \n",
       "4  RT @william98161886: I see Rishi just given an... -0.325521      0.166667   \n",
       "\n",
       "  Sentiment  \n",
       "0  Negative  \n",
       "1  Positive  \n",
       "2  Positive  \n",
       "3  Negative  \n",
       "4  Positive  "
      ]
     },
     "execution_count": 2,
     "metadata": {},
     "output_type": "execute_result"
    }
   ],
   "source": [
    "# read data file\n",
    "df = pd.read_csv(\"../dataset/Ukraine_10K_tweets_sentiment_analysis.csv\")\n",
    "df.head()"
   ]
  },
  {
   "cell_type": "code",
   "execution_count": 3,
   "metadata": {},
   "outputs": [
    {
     "data": {
      "text/plain": [
       "Tweet            object\n",
       "polarity        float64\n",
       "subjectivity    float64\n",
       "Sentiment        object\n",
       "dtype: object"
      ]
     },
     "execution_count": 3,
     "metadata": {},
     "output_type": "execute_result"
    }
   ],
   "source": [
    "# check data types of columns\n",
    "df.dtypes"
   ]
  },
  {
   "cell_type": "code",
   "execution_count": 4,
   "metadata": {},
   "outputs": [
    {
     "data": {
      "text/plain": [
       "(10167, 4)"
      ]
     },
     "execution_count": 4,
     "metadata": {},
     "output_type": "execute_result"
    }
   ],
   "source": [
    "# caculate the number of Dataframe rows and columns \n",
    "df.shape"
   ]
  },
  {
   "cell_type": "code",
   "execution_count": 5,
   "metadata": {},
   "outputs": [
    {
     "data": {
      "text/html": [
       "<div>\n",
       "<style scoped>\n",
       "    .dataframe tbody tr th:only-of-type {\n",
       "        vertical-align: middle;\n",
       "    }\n",
       "\n",
       "    .dataframe tbody tr th {\n",
       "        vertical-align: top;\n",
       "    }\n",
       "\n",
       "    .dataframe thead th {\n",
       "        text-align: right;\n",
       "    }\n",
       "</style>\n",
       "<table border=\"1\" class=\"dataframe\">\n",
       "  <thead>\n",
       "    <tr style=\"text-align: right;\">\n",
       "      <th></th>\n",
       "      <th>Tweet</th>\n",
       "      <th>polarity</th>\n",
       "      <th>subjectivity</th>\n",
       "      <th>Sentiment</th>\n",
       "    </tr>\n",
       "  </thead>\n",
       "  <tbody>\n",
       "    <tr>\n",
       "      <th>8266</th>\n",
       "      <td>RT @ChkLil: So if #Ukraine attacked Poland doe...</td>\n",
       "      <td>0.000000</td>\n",
       "      <td>0.000000</td>\n",
       "      <td>Negative</td>\n",
       "    </tr>\n",
       "    <tr>\n",
       "      <th>5765</th>\n",
       "      <td>RT @ggreenwald: US funding for war in Ukraine ...</td>\n",
       "      <td>0.136364</td>\n",
       "      <td>0.454545</td>\n",
       "      <td>Negative</td>\n",
       "    </tr>\n",
       "    <tr>\n",
       "      <th>9579</th>\n",
       "      <td>@statsjamie Spending cuts - I can guarantee th...</td>\n",
       "      <td>-0.050000</td>\n",
       "      <td>0.550000</td>\n",
       "      <td>Positive</td>\n",
       "    </tr>\n",
       "    <tr>\n",
       "      <th>6709</th>\n",
       "      <td>RT @OstapYarysh: ‼️ Gen. Mark Milley: #Ukraine...</td>\n",
       "      <td>0.125000</td>\n",
       "      <td>0.550000</td>\n",
       "      <td>Negative</td>\n",
       "    </tr>\n",
       "    <tr>\n",
       "      <th>8615</th>\n",
       "      <td>RT @RonPaul: Did Ukraine Try To Lie Us Into WW...</td>\n",
       "      <td>0.000000</td>\n",
       "      <td>0.000000</td>\n",
       "      <td>Negative</td>\n",
       "    </tr>\n",
       "  </tbody>\n",
       "</table>\n",
       "</div>"
      ],
      "text/plain": [
       "                                                  Tweet  polarity  \\\n",
       "8266  RT @ChkLil: So if #Ukraine attacked Poland doe...  0.000000   \n",
       "5765  RT @ggreenwald: US funding for war in Ukraine ...  0.136364   \n",
       "9579  @statsjamie Spending cuts - I can guarantee th... -0.050000   \n",
       "6709  RT @OstapYarysh: ‼️ Gen. Mark Milley: #Ukraine...  0.125000   \n",
       "8615  RT @RonPaul: Did Ukraine Try To Lie Us Into WW...  0.000000   \n",
       "\n",
       "      subjectivity Sentiment  \n",
       "8266      0.000000  Negative  \n",
       "5765      0.454545  Negative  \n",
       "9579      0.550000  Positive  \n",
       "6709      0.550000  Negative  \n",
       "8615      0.000000  Negative  "
      ]
     },
     "execution_count": 5,
     "metadata": {},
     "output_type": "execute_result"
    }
   ],
   "source": [
    "# create a 5000 rows sample for streaming data\n",
    "df_stream = df.sample(5000)\n",
    "df_stream.head(5)"
   ]
  },
  {
   "cell_type": "code",
   "execution_count": 6,
   "metadata": {},
   "outputs": [
    {
     "data": {
      "text/plain": [
       "Tweet           4932\n",
       "polarity        4932\n",
       "subjectivity    4932\n",
       "Sentiment       4932\n",
       "dtype: int64"
      ]
     },
     "execution_count": 6,
     "metadata": {},
     "output_type": "execute_result"
    }
   ],
   "source": [
    "# check if df_stream has enough rows\n",
    "df_stream.count()"
   ]
  },
  {
   "cell_type": "code",
   "execution_count": 7,
   "metadata": {},
   "outputs": [
    {
     "data": {
      "text/html": [
       "<div>\n",
       "<style scoped>\n",
       "    .dataframe tbody tr th:only-of-type {\n",
       "        vertical-align: middle;\n",
       "    }\n",
       "\n",
       "    .dataframe tbody tr th {\n",
       "        vertical-align: top;\n",
       "    }\n",
       "\n",
       "    .dataframe thead th {\n",
       "        text-align: right;\n",
       "    }\n",
       "</style>\n",
       "<table border=\"1\" class=\"dataframe\">\n",
       "  <thead>\n",
       "    <tr style=\"text-align: right;\">\n",
       "      <th></th>\n",
       "      <th>Tweet</th>\n",
       "      <th>polarity</th>\n",
       "      <th>subjectivity</th>\n",
       "      <th>Sentiment</th>\n",
       "    </tr>\n",
       "  </thead>\n",
       "  <tbody>\n",
       "    <tr>\n",
       "      <th>10075</th>\n",
       "      <td>NaN</td>\n",
       "      <td>NaN</td>\n",
       "      <td>NaN</td>\n",
       "      <td>NaN</td>\n",
       "    </tr>\n",
       "    <tr>\n",
       "      <th>4948</th>\n",
       "      <td>Top US general at odds with State Dept on Ukra...</td>\n",
       "      <td>0.275000</td>\n",
       "      <td>0.500000</td>\n",
       "      <td>Negative</td>\n",
       "    </tr>\n",
       "    <tr>\n",
       "      <th>7244</th>\n",
       "      <td>Never mind the @StateDept &amp;amp; @CIA-engineere...</td>\n",
       "      <td>-0.100000</td>\n",
       "      <td>0.100000</td>\n",
       "      <td>Positive</td>\n",
       "    </tr>\n",
       "    <tr>\n",
       "      <th>6414</th>\n",
       "      <td>RT @Alice_Weidel: Die #Ukraine ehrt 3 deutsche...</td>\n",
       "      <td>0.000000</td>\n",
       "      <td>0.000000</td>\n",
       "      <td>Negative</td>\n",
       "    </tr>\n",
       "    <tr>\n",
       "      <th>3821</th>\n",
       "      <td>RT @TobiAyodele: 🇷🇺🇺🇦After Russia missile stri...</td>\n",
       "      <td>-0.100000</td>\n",
       "      <td>0.100000</td>\n",
       "      <td>Positive</td>\n",
       "    </tr>\n",
       "    <tr>\n",
       "      <th>...</th>\n",
       "      <td>...</td>\n",
       "      <td>...</td>\n",
       "      <td>...</td>\n",
       "      <td>...</td>\n",
       "    </tr>\n",
       "    <tr>\n",
       "      <th>8216</th>\n",
       "      <td>RT @mfa_russia: 💬 President #Putin: Those who ...</td>\n",
       "      <td>0.000000</td>\n",
       "      <td>0.000000</td>\n",
       "      <td>Negative</td>\n",
       "    </tr>\n",
       "    <tr>\n",
       "      <th>3142</th>\n",
       "      <td>RT @atrupar: Gen. Milley commits to supporting...</td>\n",
       "      <td>0.250000</td>\n",
       "      <td>0.250000</td>\n",
       "      <td>Negative</td>\n",
       "    </tr>\n",
       "    <tr>\n",
       "      <th>2807</th>\n",
       "      <td>RT @McFaul: The longer Putin continues his inv...</td>\n",
       "      <td>0.333333</td>\n",
       "      <td>0.666667</td>\n",
       "      <td>Negative</td>\n",
       "    </tr>\n",
       "    <tr>\n",
       "      <th>7642</th>\n",
       "      <td>@sysmith8562 @ki1ngk1 @rsmith1x1 @madison2871 ...</td>\n",
       "      <td>0.500000</td>\n",
       "      <td>0.500000</td>\n",
       "      <td>Negative</td>\n",
       "    </tr>\n",
       "    <tr>\n",
       "      <th>9280</th>\n",
       "      <td>RT @ukraine_map: Ukraine🇺🇦 Air Defense Systems...</td>\n",
       "      <td>0.000000</td>\n",
       "      <td>0.000000</td>\n",
       "      <td>Negative</td>\n",
       "    </tr>\n",
       "  </tbody>\n",
       "</table>\n",
       "<p>5000 rows × 4 columns</p>\n",
       "</div>"
      ],
      "text/plain": [
       "                                                   Tweet  polarity  \\\n",
       "10075                                                NaN       NaN   \n",
       "4948   Top US general at odds with State Dept on Ukra...  0.275000   \n",
       "7244   Never mind the @StateDept &amp; @CIA-engineere... -0.100000   \n",
       "6414   RT @Alice_Weidel: Die #Ukraine ehrt 3 deutsche...  0.000000   \n",
       "3821   RT @TobiAyodele: 🇷🇺🇺🇦After Russia missile stri... -0.100000   \n",
       "...                                                  ...       ...   \n",
       "8216   RT @mfa_russia: 💬 President #Putin: Those who ...  0.000000   \n",
       "3142   RT @atrupar: Gen. Milley commits to supporting...  0.250000   \n",
       "2807   RT @McFaul: The longer Putin continues his inv...  0.333333   \n",
       "7642   @sysmith8562 @ki1ngk1 @rsmith1x1 @madison2871 ...  0.500000   \n",
       "9280   RT @ukraine_map: Ukraine🇺🇦 Air Defense Systems...  0.000000   \n",
       "\n",
       "       subjectivity Sentiment  \n",
       "10075           NaN       NaN  \n",
       "4948       0.500000  Negative  \n",
       "7244       0.100000  Positive  \n",
       "6414       0.000000  Negative  \n",
       "3821       0.100000  Positive  \n",
       "...             ...       ...  \n",
       "8216       0.000000  Negative  \n",
       "3142       0.250000  Negative  \n",
       "2807       0.666667  Negative  \n",
       "7642       0.500000  Negative  \n",
       "9280       0.000000  Negative  \n",
       "\n",
       "[5000 rows x 4 columns]"
      ]
     },
     "execution_count": 7,
     "metadata": {},
     "output_type": "execute_result"
    }
   ],
   "source": [
    "# create a 5000 rows sample for batch data\n",
    "df_batch = df.sample(5000)\n",
    "df_batch"
   ]
  },
  {
   "cell_type": "code",
   "execution_count": 8,
   "metadata": {},
   "outputs": [
    {
     "data": {
      "text/plain": [
       "Tweet           4914\n",
       "polarity        4914\n",
       "subjectivity    4914\n",
       "Sentiment       4914\n",
       "dtype: int64"
      ]
     },
     "execution_count": 8,
     "metadata": {},
     "output_type": "execute_result"
    }
   ],
   "source": [
    "# check if df_batch has enough rows\n",
    "df_batch.count()"
   ]
  },
  {
   "cell_type": "code",
   "execution_count": 9,
   "metadata": {},
   "outputs": [],
   "source": [
    "# export df_stream and df_batch to csv file named 'Streaming_Data.csv' and 'Batch_Data.csv', respectively\n",
    "df_stream.to_csv(\"../dataset/Streaming_Data.csv\", header=True, index=False)\n",
    "df_batch.to_csv(\"../dataset/Batch_Data.csv\", header=True, index=False)"
   ]
  }
 ],
 "metadata": {
  "kernelspec": {
   "display_name": "base",
   "language": "python",
   "name": "python3"
  },
  "language_info": {
   "codemirror_mode": {
    "name": "ipython",
    "version": 3
   },
   "file_extension": ".py",
   "mimetype": "text/x-python",
   "name": "python",
   "nbconvert_exporter": "python",
   "pygments_lexer": "ipython3",
   "version": "3.9.16"
  }
 },
 "nbformat": 4,
 "nbformat_minor": 2
}
